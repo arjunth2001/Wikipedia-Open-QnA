{
 "cells": [
  {
   "cell_type": "code",
   "execution_count": null,
   "metadata": {},
   "outputs": [],
   "source": [
    "import pandas as pd"
   ]
  },
  {
   "cell_type": "code",
   "execution_count": null,
   "metadata": {},
   "outputs": [],
   "source": [
    "df = pd.read_csv(\"/scratch/arjunth2001/output21.csv\")"
   ]
  },
  {
   "cell_type": "code",
   "execution_count": null,
   "metadata": {},
   "outputs": [],
   "source": [
    "import json\n",
    "import pandas as pd\n",
    "with open(\"../data/dev-v2.0.json\") as f:\n",
    "    data = json.load(f)\n",
    "data = data['data']\n"
   ]
  },
  {
   "cell_type": "code",
   "execution_count": null,
   "metadata": {},
   "outputs": [],
   "source": [
    "from tqdm.auto import tqdm\n",
    "_ans = []\n",
    "corpus = []\n",
    "for doc in tqdm(data):\n",
    "    title = doc['title']\n",
    "    paragraphs = doc['paragraphs']\n",
    "    for para in paragraphs:\n",
    "        qas = para['qas']\n",
    "        for qa in qas:\n",
    "            question = qa['question']\n",
    "            context = para['context']\n",
    "            answers = [a['text'] for a in qa['answers']]\n",
    "            if (question, answers, context, title) not in corpus:\n",
    "                corpus.append((question, answers,context,title))\n",
    "                _ans.append(answers)\n"
   ]
  },
  {
   "cell_type": "code",
   "execution_count": null,
   "metadata": {},
   "outputs": [],
   "source": [
    "list(set(_ans[0]))"
   ]
  },
  {
   "cell_type": "code",
   "execution_count": null,
   "metadata": {},
   "outputs": [],
   "source": [
    "tqdm.pandas()"
   ]
  },
  {
   "cell_type": "code",
   "execution_count": null,
   "metadata": {},
   "outputs": [],
   "source": [
    "df.head()"
   ]
  },
  {
   "cell_type": "code",
   "execution_count": null,
   "metadata": {},
   "outputs": [],
   "source": [
    "import spacy\n",
    "nlp = spacy.load(\"en_core_web_sm\")\n",
    "truths = []\n",
    "pos =[]\n",
    "ner = []\n",
    "for i in tqdm(range(len(df))):\n",
    "    truths.append(_ans[df['q_id'][i]])\n",
    "    doc = nlp(str(df[\"answer\"][i]))\n",
    "    pos.append([token.tag_ for token in doc])\n",
    "    ner.append([token.ent_type_ for token in doc])\n",
    "df[\"truths\"] = truths\n",
    "df[\"pos\"] = pos\n",
    "df[\"ner\"] = ner\n"
   ]
  },
  {
   "cell_type": "code",
   "execution_count": null,
   "metadata": {},
   "outputs": [],
   "source": [
    "targets = []\n",
    "for i in tqdm(range(len(df))):\n",
    "    if df[\"truths\"][i] == []:\n",
    "        targets.append(0)\n",
    "    elif str(df[\"answer\"][i]).lower() in \" \".join([str(e).lower() for e in df[\"truths\"][i]]):\n",
    "        targets.append(1)\n",
    "    else:\n",
    "        targets.append(0)\n"
   ]
  },
  {
   "cell_type": "code",
   "execution_count": null,
   "metadata": {},
   "outputs": [],
   "source": [
    "df[\"target\"] = targets"
   ]
  },
  {
   "cell_type": "code",
   "execution_count": null,
   "metadata": {},
   "outputs": [],
   "source": [
    "df = df[df.truths.str.len()>= 1]"
   ]
  },
  {
   "cell_type": "code",
   "execution_count": null,
   "metadata": {},
   "outputs": [],
   "source": [
    "len(df[\"q_id\"].unique())"
   ]
  },
  {
   "cell_type": "code",
   "execution_count": null,
   "metadata": {},
   "outputs": [],
   "source": [
    "df.reset_index(inplace=True)"
   ]
  },
  {
   "cell_type": "code",
   "execution_count": null,
   "metadata": {},
   "outputs": [],
   "source": [
    "import numpy as np"
   ]
  },
  {
   "cell_type": "code",
   "execution_count": null,
   "metadata": {},
   "outputs": [],
   "source": [
    "doc_sim = df.groupby(\"doc_id\").agg(\n",
    "    sum_doc_score=pd.NamedAgg(column=\"par_sim\", aggfunc=\"sum\"),\n",
    "    max_doc_score=pd.NamedAgg(column=\"par_sim\", aggfunc=\"max\"),\n",
    "    min_doc_score=pd.NamedAgg(column=\"par_sim\", aggfunc=\"min\"),\n",
    "    avg_doc_score=pd.NamedAgg(column=\"par_sim\", aggfunc=np.mean),\n",
    ")"
   ]
  },
  {
   "cell_type": "code",
   "execution_count": null,
   "metadata": {},
   "outputs": [],
   "source": [
    "doc_sim"
   ]
  },
  {
   "cell_type": "code",
   "execution_count": null,
   "metadata": {},
   "outputs": [],
   "source": [
    "span_sim = df.groupby(\"answer\").agg(\n",
    "    sum_span_score=pd.NamedAgg(column=\"score\", aggfunc=\"sum\"),\n",
    "    max_span_score=pd.NamedAgg(column=\"score\", aggfunc=\"max\"),\n",
    "    min_span_score=pd.NamedAgg(column=\"score\", aggfunc=\"min\"),\n",
    "    avg_span_score=pd.NamedAgg(column=\"score\", aggfunc=np.mean),\n",
    ")"
   ]
  },
  {
   "cell_type": "code",
   "execution_count": null,
   "metadata": {},
   "outputs": [],
   "source": [
    "span_sim[\"sum_span_score\"][148]"
   ]
  },
  {
   "cell_type": "code",
   "execution_count": null,
   "metadata": {},
   "outputs": [],
   "source": [
    "sss = []\n",
    "mass = []\n",
    "misc = []\n",
    "ass = []\n",
    "sds =[]\n",
    "mads =[]\n",
    "mids = []\n",
    "ads = []\n",
    "for i in tqdm(range(len(df))):\n",
    "    try:\n",
    "        sss.append(span_sim[\"sum_span_score\"][df[\"answer\"][i]])\n",
    "        mass.append(span_sim[\"max_span_score\"][df[\"answer\"][i]])\n",
    "        misc.append(span_sim[\"min_span_score\"][df[\"answer\"][i]])\n",
    "        ass.append(span_sim[\"avg_span_score\"][df[\"answer\"][i]])\n",
    "        sds.append(doc_sim[\"sum_doc_score\"][df[\"doc_id\"][i]])\n",
    "        mads.append(doc_sim[\"max_doc_score\"][df[\"doc_id\"][i]])\n",
    "        mids.append(doc_sim[\"min_doc_score\"][df[\"doc_id\"][i]])\n",
    "        ads.append(doc_sim[\"avg_doc_score\"][df[\"doc_id\"][i]])\n",
    "    except:\n",
    "        sss.append(0)\n",
    "        mass.append(0)\n",
    "        misc.append(0)\n",
    "        ass.append(0)\n",
    "        sds.append(0)\n",
    "        mads.append(0)\n",
    "        mids.append(0)\n",
    "        ads.append(0)\n",
    "        print(\"here\")"
   ]
  },
  {
   "cell_type": "code",
   "execution_count": null,
   "metadata": {},
   "outputs": [],
   "source": [
    "df[\"sum_span_score\"] = sss\n",
    "df[\"max_span_score\"] = mass\n",
    "df[\"min_span_score\"] = misc\n",
    "df[\"avg_span_score\"] = ass\n",
    "df[\"sum_doc_score\"] = sds\n",
    "df[\"max_doc_score\"] = mads\n",
    "df[\"min_doc_score\"] = mids\n",
    "df[\"avg_doc_score\"] = ads"
   ]
  },
  {
   "cell_type": "code",
   "execution_count": null,
   "metadata": {},
   "outputs": [],
   "source": [
    "qids = list(df[\"q_id\"].unique())"
   ]
  },
  {
   "cell_type": "code",
   "execution_count": null,
   "metadata": {},
   "outputs": [],
   "source": [
    "sizes = []\n",
    "tables = []\n",
    "for qg in df.groupby(\"q_id\"):\n",
    "    new = qg[1].drop_duplicates(subset=\"answer\")\n",
    "    new.sort_values(by=['score'],inplace=True,ascending=False)\n",
    "    new.reset_index(drop=True,inplace=True)\n",
    "    new = new.head(4)\n",
    "    answer_list = qg[1][\"answer\"].tolist()\n",
    "    new[\"first_occurence\"] = [0]*len(new)\n",
    "    new[\"num_occurence\"] = [1]*len(new)\n",
    "    new.reset_index(inplace=True)\n",
    "    for i in range(len(new)):\n",
    "        if new[\"answer\"][i] in answer_list:\n",
    "            new[\"first_occurence\"][i] = answer_list.index(new[\"answer\"][i])\n",
    "            new[\"num_occurence\"][i] = answer_list.count(new[\"answer\"][i])\n",
    "    sizes.append(len(new))\n",
    "    tables.append(new)\n",
    "    "
   ]
  },
  {
   "cell_type": "code",
   "execution_count": null,
   "metadata": {},
   "outputs": [],
   "source": [
    "set(sizes)"
   ]
  },
  {
   "cell_type": "code",
   "execution_count": null,
   "metadata": {},
   "outputs": [],
   "source": [
    "tables = [t for t in tables if len(t) == 4]"
   ]
  },
  {
   "cell_type": "code",
   "execution_count": null,
   "metadata": {},
   "outputs": [],
   "source": [
    "t = pd.concat(tables)"
   ]
  },
  {
   "cell_type": "code",
   "execution_count": null,
   "metadata": {},
   "outputs": [],
   "source": [
    "t[\"target\"].value_counts()"
   ]
  },
  {
   "cell_type": "code",
   "execution_count": null,
   "metadata": {},
   "outputs": [],
   "source": [
    "t.to_csv(\"../data/t2.csv\",index=False)"
   ]
  },
  {
   "cell_type": "code",
   "execution_count": null,
   "metadata": {},
   "outputs": [],
   "source": []
  }
 ],
 "metadata": {
  "interpreter": {
   "hash": "18ad1a0b78abb685195a187077c0e4222d62dc0b12b6ffc1ffdc6633194f7113"
  },
  "kernelspec": {
   "display_name": "Python 3.7.11 64-bit ('py37': conda)",
   "language": "python",
   "name": "python3"
  },
  "language_info": {
   "codemirror_mode": {
    "name": "ipython",
    "version": 3
   },
   "file_extension": ".py",
   "mimetype": "text/x-python",
   "name": "python",
   "nbconvert_exporter": "python",
   "pygments_lexer": "ipython3",
   "version": "3.7.11"
  },
  "orig_nbformat": 4
 },
 "nbformat": 4,
 "nbformat_minor": 2
}
