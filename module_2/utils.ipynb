{
 "cells": [
  {
   "cell_type": "code",
   "execution_count": null,
   "id": "826ae857-9d51-41fd-8965-356733ba82e2",
   "metadata": {},
   "outputs": [],
   "source": [
    "import json\n",
    "import re"
   ]
  },
  {
   "cell_type": "code",
   "execution_count": null,
   "id": "c71b098e-8aca-4560-ba2a-ad960862a3e4",
   "metadata": {},
   "outputs": [],
   "source": [
    "def load_json(path):\n",
    "    with open(path, 'r', encoding='utf-8') as f:\n",
    "        data = json.load(f)\n",
    "    return data"
   ]
  },
  {
   "cell_type": "code",
   "execution_count": null,
   "id": "f36938cc-f054-4979-9aff-b026ef4bfdde",
   "metadata": {},
   "outputs": [],
   "source": [
    "def parse_data(data):\n",
    "    data = data['data']\n",
    "    qa_list = []\n",
    "\n",
    "    for paragraphs in data:\n",
    "\n",
    "        for para in paragraphs['paragraphs']:\n",
    "            context = para['context']\n",
    "\n",
    "            for qa in para['qas']:\n",
    "                \n",
    "                id = qa['id']\n",
    "                question = qa['question']\n",
    "                \n",
    "                for ans in qa['answers']:\n",
    "                    answer = ans['text']\n",
    "                    ans_start = ans['answer_start']\n",
    "                    ans_end = ans_start + len(answer)\n",
    "                    \n",
    "                    qa_dict = {}\n",
    "                    qa_dict['id'] = id\n",
    "                    qa_dict['context'] = context\n",
    "                    qa_dict['question'] = question\n",
    "                    qa_dict['label'] = [ans_start, ans_end]\n",
    "\n",
    "                    qa_dict['answer'] = answer\n",
    "                    qa_list.append(qa_dict)\n",
    "    return qa_list"
   ]
  },
  {
   "cell_type": "code",
   "execution_count": null,
   "id": "09adb0ea-b4d1-4058-8216-dc06700f0af0",
   "metadata": {},
   "outputs": [],
   "source": [
    "def text_to_ids(text, word2idx, nlp):\n",
    "    toks = [(w.text, w.pos, w.ent_type) for w in nlp(text)]\n",
    "    text_ids = [word2idx[t[0]] for t in toks]\n",
    "    fts = [(t[1],t[2])for t in toks]\n",
    "    return text_ids , fts"
   ]
  },
  {
   "cell_type": "code",
   "execution_count": null,
   "id": "adb1d26e-1953-477b-aab7-6ff6d189cbce",
   "metadata": {},
   "outputs": [],
   "source": [
    "def index_answer(row, idx2word,nlp):    \n",
    "    context_span = [(word.idx, word.idx + len(word.text)) for word in nlp(row.context, disable=['parser','tagger','ner'])]\n",
    "    starts, ends = zip(*context_span)\n",
    "    answer_start, answer_end = row.label\n",
    "    start_idx = starts.index(answer_start)\n",
    "    end_idx  = ends.index(answer_end)\n",
    "    ans_toks = [w.text for w in nlp(row.answer,disable=['parser','tagger','ner'])]\n",
    "    ans_start = ans_toks[0]\n",
    "    ans_end = ans_toks[-1]    \n",
    "    return [start_idx, end_idx]"
   ]
  },
  {
   "cell_type": "code",
   "execution_count": null,
   "id": "71374576-7ab4-4698-9812-d7b2b305d095",
   "metadata": {},
   "outputs": [],
   "source": [
    "def normalize_spaces(text):\n",
    "    text = re.sub(r'\\s', ' ', text)\n",
    "    return text"
   ]
  },
  {
   "cell_type": "code",
   "execution_count": null,
   "id": "bc61e171-c9ca-4c1d-8082-36e9a9b8138c",
   "metadata": {},
   "outputs": [],
   "source": [
    "def test_indices(df, idx2word,nlp):\n",
    "    start_value_error = []\n",
    "    end_value_error = []\n",
    "    assert_error = []\n",
    "    for index, row in df.iterrows():\n",
    "\n",
    "        answer_tokens = [w.text for w in nlp(row['answer'], disable=['parser','tagger','ner'])]\n",
    "\n",
    "        start_token = answer_tokens[0]\n",
    "        end_token = answer_tokens[-1]\n",
    "        \n",
    "        context_span  = [(word.idx, word.idx + len(word.text)) \n",
    "                         for word in nlp(row['context'], disable=['parser','tagger','ner'])]\n",
    "\n",
    "        starts, ends = zip(*context_span)\n",
    "\n",
    "        answer_start, answer_end = row['label']\n",
    "\n",
    "        try:\n",
    "            start_idx = starts.index(answer_start)\n",
    "        except:\n",
    "            start_value_error.append(index)\n",
    "        try:\n",
    "            end_idx  = ends.index(answer_end)\n",
    "        except:\n",
    "            end_value_error.append(index)\n",
    "\n",
    "        try:\n",
    "            assert idx2word[row['context_ids'][0][start_idx]] == answer_tokens[0]\n",
    "            assert idx2word[row['context_ids'][0][end_idx]] == answer_tokens[-1]\n",
    "        except:\n",
    "            assert_error.append(index)\n",
    "\n",
    "\n",
    "    return start_value_error, end_value_error, assert_error\n",
    "\n",
    "\n",
    "\n",
    "def get_error_indices(df, idx2word, nlp):\n",
    "    start_value_error, end_value_error, assert_error = test_indices(df, idx2word,nlp)\n",
    "    err_idx = start_value_error + end_value_error + assert_error\n",
    "    err_idx = set(err_idx)\n",
    "    return err_idx"
   ]
  },
  {
   "cell_type": "code",
   "execution_count": null,
   "id": "c53fada6-6550-401f-807c-3e331aa0954d",
   "metadata": {},
   "outputs": [],
   "source": [
    "def index_answer(row, idx2word,nlp):    \n",
    "    context_span = [(word.idx, word.idx + len(word.text)) for word in nlp(row.context, disable=['parser','tagger','ner'])]\n",
    "    starts, ends = zip(*context_span)\n",
    "    answer_start, answer_end = row.label\n",
    "    start_idx = starts.index(answer_start)\n",
    "    end_idx  = ends.index(answer_end)\n",
    "    ans_toks = [w.text for w in nlp(row.answer,disable=['parser','tagger','ner'])]\n",
    "    ans_start = ans_toks[0]\n",
    "    ans_end = ans_toks[-1]\n",
    "    assert idx2word[row.context_ids[0][start_idx]] == ans_start\n",
    "    assert idx2word[row.context_ids[0][end_idx]] == ans_end\n",
    "    return [start_idx, end_idx]\n"
   ]
  },
  {
   "cell_type": "code",
   "execution_count": null,
   "id": "776b08c9-6d8a-4d43-9bec-2640721b4ca0",
   "metadata": {},
   "outputs": [],
   "source": []
  }
 ],
 "metadata": {
  "kernelspec": {
   "display_name": "Python 3 (ipykernel)",
   "language": "python",
   "name": "python3"
  },
  "language_info": {
   "codemirror_mode": {
    "name": "ipython",
    "version": 3
   },
   "file_extension": ".py",
   "mimetype": "text/x-python",
   "name": "python",
   "nbconvert_exporter": "python",
   "pygments_lexer": "ipython3",
   "version": "3.7.11"
  }
 },
 "nbformat": 4,
 "nbformat_minor": 5
}
