{
 "cells": [
  {
   "cell_type": "code",
   "execution_count": 7,
   "id": "9446d5f3-9cf6-4531-84f2-cedf85848e2b",
   "metadata": {},
   "outputs": [],
   "source": [
    "import torch\n",
    "import torch.nn as nn\n",
    "import torch.nn.functional as F\n",
    "from torch import optim\n",
    "from tqdm.auto import tqdm\n",
    "from torch.autograd import Variable\n",
    "from torch.nn.functional import cross_entropy\n",
    "from torch.utils.data import Dataset, DataLoader"
   ]
  },
  {
   "cell_type": "code",
   "execution_count": 11,
   "id": "9692deea-cae5-46af-bfaa-d1801ceae388",
   "metadata": {},
   "outputs": [],
   "source": [
    "params = {\n",
    "    \"epochs\": 10,\n",
    "    \"lr\": 1e-5,\n",
    "    \"num_feat\": 10,\n",
    "    \"lin_dim\": 10,\n",
    "    \"reg\": 0.1,\n",
    "    \"batch_size\": 32,\n",
    "}"
   ]
  },
  {
   "cell_type": "code",
   "execution_count": 18,
   "id": "7e297c75-95ce-4d3f-aeae-44e4521f870e",
   "metadata": {},
   "outputs": [],
   "source": [
    "class rankqaDS(Dataset):\n",
    "    def __getitem__(self, indx):\n",
    "        return 0, 0, 0, 0\n",
    "    \n",
    "    def __len__(self):\n",
    "        return 0"
   ]
  },
  {
   "cell_type": "code",
   "execution_count": null,
   "id": "939afb69-b354-42f0-be4f-e648d44a8bd2",
   "metadata": {},
   "outputs": [],
   "source": [
    "f_data = rankqaDS()\n",
    "data_loader = DataLoader(f_data, batch_size = params[\"batch_size\"])"
   ]
  },
  {
   "cell_type": "code",
   "execution_count": 6,
   "id": "7333ad5b-3dfb-4041-8f5e-12be56de70a8",
   "metadata": {},
   "outputs": [
    {
     "name": "stdout",
     "output_type": "stream",
     "text": [
      "device - cpu\n"
     ]
    }
   ],
   "source": [
    "device = torch.device('cpu')\n",
    "if torch.cuda.is_available():\n",
    "    device = torch.device('cuda')\n",
    "print(\"device - \" + str(device))"
   ]
  },
  {
   "cell_type": "code",
   "execution_count": 12,
   "id": "beb115ce-2bbe-4984-8304-3f20693e0ba3",
   "metadata": {},
   "outputs": [],
   "source": [
    "class ReRanker(nn.Module):\n",
    "    def __init__(self, num_feat, lin_dim):\n",
    "        super(ReRanker, self).__init__()\n",
    "        self.l1 = nn.Linear(num_feat, lin_dim)\n",
    "        self.relu = nn.ReLU()\n",
    "        self.l2 = nn.Linear(lin_dim, 1)\n",
    "        self.sig = nn.Sigmoid()\n",
    "\n",
    "    def forward(x_head, x_body):\n",
    "        out_head = self.l1(x_head)\n",
    "        out_head = self.relu(out_head)\n",
    "        out_head = self.l2(out_head)\n",
    "        out_body = self.l1(x_body)\n",
    "        out_body = self.relu(out_body)\n",
    "        out_body = self.l2(out_body)\n",
    "        out = self.sig(out_head - out_body)\n",
    "        return out"
   ]
  },
  {
   "cell_type": "code",
   "execution_count": 14,
   "id": "fc2cc1ce-68f6-40d3-b8ba-c282595018e0",
   "metadata": {},
   "outputs": [
    {
     "data": {
      "text/plain": [
       "ReRanker(\n",
       "  (l1): Linear(in_features=10, out_features=10, bias=True)\n",
       "  (relu): ReLU()\n",
       "  (l2): Linear(in_features=10, out_features=1, bias=True)\n",
       "  (sig): Sigmoid()\n",
       ")"
      ]
     },
     "execution_count": 14,
     "metadata": {},
     "output_type": "execute_result"
    }
   ],
   "source": [
    "model = ReRanker(params[\"num_feat\"], params[\"lin_dim\"])\n",
    "model.to(device)"
   ]
  },
  {
   "cell_type": "code",
   "execution_count": 15,
   "id": "2c030e4a-4682-4e7f-8203-d69acf4dc428",
   "metadata": {},
   "outputs": [],
   "source": [
    "loss_func = nn.MSELoss()\n",
    "opt = optim.Adam(model.parameters(), lr=params[\"lr\"])"
   ]
  },
  {
   "cell_type": "code",
   "execution_count": null,
   "id": "9b12f172-17f0-4bed-a6ca-086e27fe9d3a",
   "metadata": {},
   "outputs": [],
   "source": [
    "for epoch in range(params[\"epochs\"]):\n",
    "    total_loss = 0\n",
    "    for batch in tqdm(data_loader):\n",
    "        x_head, x_body, target, i = batch\n",
    "        x_head = x_head.to(device)\n",
    "        x_body = x_body.to(device)\n",
    "        target = target.to(device)\n",
    "        y_pred = model.forward(x_head, x_body)\n",
    "        loss = loss_func(y_pred[:, 0], target)\n",
    "        reg_l2 = 0\n",
    "        for p in model.paramters():\n",
    "            reg_l2 += p.norm(2)\n",
    "        loss += params[\"reg\"] * reg_l2\n",
    "        loss.backward()\n",
    "        opt.step()\n",
    "        opt.zero_grad()\n",
    "        total_loss += loss.detach().item()\n",
    "    \n",
    "    if epoch%2 == 1 or epoch == params[\"epochs\"] - 1:\n",
    "        torch.save({\n",
    "            'epoch': epoch,\n",
    "            'model_state_dict': model.state_dict(),\n",
    "            'optimizer_state_dict': opt.state_dict(),\n",
    "            'loss': total_loss,\n",
    "        }, f\"./checkpoints/model.pt\")\n",
    "    print(f\"Total Loss - {total_loss}\")"
   ]
  }
 ],
 "metadata": {
  "kernelspec": {
   "display_name": "Python 3",
   "language": "python",
   "name": "python3"
  },
  "language_info": {
   "codemirror_mode": {
    "name": "ipython",
    "version": 3
   },
   "file_extension": ".py",
   "mimetype": "text/x-python",
   "name": "python",
   "nbconvert_exporter": "python",
   "pygments_lexer": "ipython3",
   "version": "3.9.7"
  }
 },
 "nbformat": 4,
 "nbformat_minor": 5
}
