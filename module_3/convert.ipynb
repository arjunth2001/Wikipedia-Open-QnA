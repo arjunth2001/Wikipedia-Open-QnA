{
 "cells": [
  {
   "cell_type": "code",
   "execution_count": 1,
   "id": "dd91408b-5769-4745-912f-404c605ac8db",
   "metadata": {},
   "outputs": [],
   "source": [
    "import json\n",
    "import numpy as np\n",
    "import pandas as pd"
   ]
  },
  {
   "cell_type": "code",
   "execution_count": 2,
   "id": "29adf2e8-1a0b-4e7f-b943-512a0dc5a598",
   "metadata": {},
   "outputs": [],
   "source": [
    "filenames = [\"t1\", \"t2\"]"
   ]
  },
  {
   "cell_type": "code",
   "execution_count": 3,
   "id": "efe9ad76-ace0-468d-bd34-ca99674d9798",
   "metadata": {},
   "outputs": [],
   "source": [
    "for file in filenames:\n",
    "    df = pd.read_csv(f\"./data/{file}.csv\")\n",
    "    data = []\n",
    "    ref_dict = {}\n",
    "\n",
    "    for indx, x in df.iterrows():\n",
    "        x = x.to_dict()\n",
    "        if x[\"q_id\"] in ref_dict:\n",
    "            data[ref_dict[x[\"q_id\"]]].append(x)\n",
    "        else:\n",
    "            ref_dict[x[\"q_id\"]] = len(data)\n",
    "            data.append([x])\n",
    "   \n",
    "    with open(f\"./data/{file}.jsonl\", \"w\") as f:\n",
    "        for d in data:\n",
    "            f.write(json.dumps(d) + \"\\n\")"
   ]
  }
 ],
 "metadata": {
  "kernelspec": {
   "display_name": "Python 3",
   "language": "python",
   "name": "python3"
  },
  "language_info": {
   "codemirror_mode": {
    "name": "ipython",
    "version": 3
   },
   "file_extension": ".py",
   "mimetype": "text/x-python",
   "name": "python",
   "nbconvert_exporter": "python",
   "pygments_lexer": "ipython3",
   "version": "3.9.7"
  }
 },
 "nbformat": 4,
 "nbformat_minor": 5
}
