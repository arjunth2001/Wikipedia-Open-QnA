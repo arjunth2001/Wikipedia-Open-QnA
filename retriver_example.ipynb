{
 "cells": [
  {
   "cell_type": "code",
   "execution_count": 1,
   "metadata": {},
   "outputs": [],
   "source": [
    "from module_1.retriever import Retriever\n",
    "import wikipedia"
   ]
  },
  {
   "cell_type": "code",
   "execution_count": 2,
   "metadata": {},
   "outputs": [],
   "source": [
    "ret = Retriever(\"/scratch/arjunth2001/\")"
   ]
  },
  {
   "cell_type": "code",
   "execution_count": 9,
   "metadata": {},
   "outputs": [
    {
     "data": {
      "text/plain": [
       "[(('23621594', 'Euchlaena'), 0.6963069438934326),\n",
       " (('23622271', 'Iridopsis'), 0.6949714422225952),\n",
       " (('23621694', 'Eusarca'), 0.524903416633606),\n",
       " (('23622646', 'Macaria (moth)'), 0.41351768374443054),\n",
       " (('23641414', 'Micropterix isobasella'), 0.401421457529068)]"
      ]
     },
     "execution_count": 9,
     "metadata": {},
     "output_type": "execute_result"
    }
   ],
   "source": [
    "ret.get_similar(\"What is a Macaria Moth?\")"
   ]
  },
  {
   "cell_type": "code",
   "execution_count": 6,
   "metadata": {},
   "outputs": [],
   "source": [
    "content = wikipedia.page(pageid=23621594).content\n"
   ]
  },
  {
   "cell_type": "code",
   "execution_count": 10,
   "metadata": {},
   "outputs": [
    {
     "data": {
      "text/plain": [
       "'Euchlaena is a genus of moths in the family Geometridae erected by Jacob Hübner in 1823.\\n\\n\\n== Species ==\\nEuchlaena amoenaria (Guenée, 1857) – deep yellow euchlaena moth\\nEuchlaena aniliaria (Herrich-Schaffer, 1855)\\nEuchlaena deductaria (Walker, 1860) – forked euchlaena moth\\nEuchlaena deplanaria (Walker, 1863)\\nEuchlaena effecta (Walker, 1860) – effective euchlaena moth\\nEuchlaena imitata (Maassen, 1890)\\nEuchlaena irraria (Barnes & McDunnough, 1917) – least-marked euchlaena moth\\nEuchlaena johnsonaria (Fitch, 1869) – Johnson\\'s euchlaena moth\\nEuchlaena madusaria (Walker, 1860) – scrub euchlaena moth\\nEuchlaena manubiaria (Hulst, 1886)\\nEuchlaena marginaria (Minot, 1869) – ochre euchlaena moth\\nEuchlaena milnei McDunnough, 1945\\nEuchlaena mollisaria (Hulst, 1886)\\nEuchlaena muzaria (Walker, 1860)\\nEuchlaena obtusaria (Hübner, 1809–13) – obtuse euchlaena moth\\nEuchlaena serrata (Drury, 1770) – saw-wing moth\\nEuchlaena silacea Rindge, 1958\\nEuchlaena tigrinaria (Guenée, 1857) – mottled euchlaena moth\\nEuchlaena undularia (Dyar, 1910)\\n\\n\\n== Former species ==\\nEuchlaena pectinaria (Denis & Schiffermüller, 1775)\\n\\n\\n== References ==\\n\\n\\n== External links ==\\nSavela, Markku. \"Euchlaena Hübner, 1823\". Lepidoptera and Some Other Life Forms. Retrieved February 2, 2019.'"
      ]
     },
     "execution_count": 10,
     "metadata": {},
     "output_type": "execute_result"
    }
   ],
   "source": [
    "content"
   ]
  },
  {
   "cell_type": "code",
   "execution_count": null,
   "metadata": {},
   "outputs": [],
   "source": []
  }
 ],
 "metadata": {
  "interpreter": {
   "hash": "01eb00268ba45acf1093da18c3d5e2059d3803c4cd1bbb63ccfa8889add21a02"
  },
  "kernelspec": {
   "display_name": "Python 3 (ipykernel)",
   "language": "python",
   "name": "python3"
  },
  "language_info": {
   "codemirror_mode": {
    "name": "ipython",
    "version": 3
   },
   "file_extension": ".py",
   "mimetype": "text/x-python",
   "name": "python",
   "nbconvert_exporter": "python",
   "pygments_lexer": "ipython3",
   "version": "3.7.0"
  }
 },
 "nbformat": 4,
 "nbformat_minor": 4
}
