{
 "cells": [
  {
   "cell_type": "code",
   "execution_count": null,
   "metadata": {},
   "outputs": [],
   "source": [
    "from gensim.models import TfidfModel\n",
    "from gensim.corpora import Dictionary, MmCorpus\n",
    "from gensim import similarities\n",
    "from gensim import utils\n",
    "import wikipedia\n",
    "BASEPATH=\"/scratch/arjunth2001\""
   ]
  },
  {
   "cell_type": "code",
   "execution_count": null,
   "metadata": {},
   "outputs": [],
   "source": [
    "query = \"Sullivan Lake\".lower()\n"
   ]
  },
  {
   "cell_type": "code",
   "execution_count": null,
   "metadata": {},
   "outputs": [],
   "source": [
    "corpus_tfidf = MmCorpus(f'{BASEPATH}/data/corpus_tfidf.mm')\n",
    "index = similarities.MatrixSimilarity(corpus_tfidf,num_best=5)\n",
    "dct = Dictionary([query.split()])\n",
    "corpus = [dct.doc2bow(line) for line in [query.split()]]\n",
    "id_to_titles = utils.unpickle(\n",
    "    f'{BASEPATH}/data/bow.mm.metadata.cpickle')\n",
    "model_tfidf = TfidfModel.load(f'{BASEPATH}/data/tfidf.tfidf_model')\n"
   ]
  },
  {
   "cell_type": "code",
   "execution_count": null,
   "metadata": {},
   "outputs": [],
   "source": [
    "query_vec = model_tfidf[corpus[0]]\n",
    "sims = index[query_vec]\n"
   ]
  },
  {
   "cell_type": "code",
   "execution_count": null,
   "metadata": {},
   "outputs": [],
   "source": [
    "sims = sorted(sims, key=lambda item: -item[1])"
   ]
  },
  {
   "cell_type": "code",
   "execution_count": null,
   "metadata": {},
   "outputs": [],
   "source": [
    "sims"
   ]
  },
  {
   "cell_type": "code",
   "execution_count": null,
   "metadata": {},
   "outputs": [],
   "source": [
    "result_index = sims[0][0]\n"
   ]
  },
  {
   "cell_type": "code",
   "execution_count": null,
   "metadata": {},
   "outputs": [],
   "source": [
    "id_to_titles[result_index]\n"
   ]
  },
  {
   "cell_type": "code",
   "execution_count": null,
   "metadata": {},
   "outputs": [],
   "source": [
    "page = wikipedia.page(pageid=23622646)\n"
   ]
  },
  {
   "cell_type": "code",
   "execution_count": null,
   "metadata": {},
   "outputs": [],
   "source": [
    "page.content.split(\"\\n\")"
   ]
  },
  {
   "cell_type": "code",
   "execution_count": null,
   "metadata": {},
   "outputs": [],
   "source": []
  }
 ],
 "metadata": {
  "interpreter": {
   "hash": "01eb00268ba45acf1093da18c3d5e2059d3803c4cd1bbb63ccfa8889add21a02"
  },
  "kernelspec": {
   "display_name": "Python 3.7.0 64-bit ('legal': conda)",
   "language": "python",
   "name": "python3"
  },
  "language_info": {
   "codemirror_mode": {
    "name": "ipython",
    "version": 3
   },
   "file_extension": ".py",
   "mimetype": "text/x-python",
   "name": "python",
   "nbconvert_exporter": "python",
   "pygments_lexer": "ipython3",
   "version": "3.7.0"
  },
  "orig_nbformat": 4
 },
 "nbformat": 4,
 "nbformat_minor": 2
}
