{
 "cells": [
  {
   "cell_type": "code",
   "execution_count": null,
   "metadata": {},
   "outputs": [],
   "source": [
    "import json\n",
    "import pandas as pd\n",
    "with open(\"../data/dev-v2.0.json\") as f:\n",
    "    data = json.load(f)\n",
    "data = data['data']\n",
    "jsonl=[]\n"
   ]
  },
  {
   "cell_type": "code",
   "execution_count": null,
   "metadata": {},
   "outputs": [],
   "source": [
    "import wikipedia\n",
    "from retriever import Retriever\n",
    "from gensim.matutils import cossim\n",
    "from gensim import utils\n",
    "BASE_PATH = \"/scratch/arjunth2001/\"\n",
    "ret = Retriever(BASE_PATH)\n"
   ]
  },
  {
   "cell_type": "code",
   "execution_count": null,
   "metadata": {},
   "outputs": [],
   "source": [
    "from tqdm.auto import tqdm\n",
    "corpus =[]\n",
    "for doc in tqdm(data):\n",
    "    title = doc['title']\n",
    "    paragraphs = doc['paragraphs']\n",
    "    for para in paragraphs:\n",
    "        qas = para['qas']\n",
    "        for qa in qas:\n",
    "            question = qa['question']\n",
    "            answers = [a['text'] for a in qa['answers']]\n",
    "            corpus.append((question,answers))\n"
   ]
  },
  {
   "cell_type": "code",
   "execution_count": null,
   "metadata": {},
   "outputs": [],
   "source": [
    "import nltk\n",
    "def get_length(text):\n",
    "    text = text.replace('\\n', ' ')\n",
    "    tokens = nltk.word_tokenize(text.lower())\n",
    "    return len(tokens)\n"
   ]
  },
  {
   "cell_type": "code",
   "execution_count": null,
   "metadata": {},
   "outputs": [],
   "source": [
    "Q_TYPE = {'what was': 0, 'what is': 1, 'what': 2, 'in what': 3, 'in which': 4, 'in': 5,\n",
    "          'when': 6, 'where': 7, 'who': 8, 'why': 9, 'which': 10, 'is': 11, 'other': 12}\n",
    "\n",
    "\n",
    "def get_question_type_features(question):\n",
    "    qwords = question.split(' ')\n",
    "    if qwords[0].lower() in Q_TYPE:\n",
    "        return Q_TYPE[qwords[0].lower()]\n",
    "    if ' '.join(list(map(lambda x: x.lower(), qwords[0:2]))) in Q_TYPE:\n",
    "        return Q_TYPE[' '.join(list(map(lambda x: x.lower(), qwords[0:2])))]\n",
    "    return Q_TYPE['other']\n"
   ]
  },
  {
   "cell_type": "code",
   "execution_count": null,
   "metadata": {},
   "outputs": [],
   "source": [
    "jsonl = []\n",
    "for q,ans in tqdm(corpus):\n",
    "    rets = ret.get_similar(q)\n",
    "    q_vec = ret.getTfidfForText(q)\n",
    "    rele =[] \n",
    "    for (_id,title),doc_sim in rets:\n",
    "        content = wikipedia.page(pageid=_id).content\n",
    "        paras = content.split('\\n\\n\\n')\n",
    "        for para in paras:\n",
    "            my_dict ={\n",
    "                'doc_sim': doc_sim,\n",
    "                'par_sim':cossim(q_vec,ret.getTfidfForText(para)),\n",
    "                'par_length':get_length(para),\n",
    "                'doc_length':get_length(content),\n",
    "                'question_type':get_question_type_features(q),\n",
    "                'truths':list(set(ans)),\n",
    "                'q':q,\n",
    "                'para':para\n",
    "            }\n",
    "            rele.append(my_dict)\n",
    "    rele = sorted(rele, key=lambda item: -item[\"par_sim\"])[:5]\n",
    "    jsonl.append(rele)\n",
    "        \n",
    "\n",
    "            \n",
    "\n"
   ]
  },
  {
   "cell_type": "code",
   "execution_count": null,
   "metadata": {},
   "outputs": [],
   "source": [
    "jsonl"
   ]
  },
  {
   "cell_type": "code",
   "execution_count": null,
   "metadata": {},
   "outputs": [],
   "source": []
  }
 ],
 "metadata": {
  "interpreter": {
   "hash": "01eb00268ba45acf1093da18c3d5e2059d3803c4cd1bbb63ccfa8889add21a02"
  },
  "kernelspec": {
   "display_name": "Python 3.7.0 64-bit ('legal': conda)",
   "language": "python",
   "name": "python3"
  },
  "language_info": {
   "codemirror_mode": {
    "name": "ipython",
    "version": 3
   },
   "file_extension": ".py",
   "mimetype": "text/x-python",
   "name": "python",
   "nbconvert_exporter": "python",
   "pygments_lexer": "ipython3",
   "version": "3.7.0"
  },
  "orig_nbformat": 4
 },
 "nbformat": 4,
 "nbformat_minor": 2
}
